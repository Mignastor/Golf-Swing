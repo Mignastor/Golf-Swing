{
 "cells": [
  {
   "cell_type": "markdown",
   "metadata": {},
   "source": [
    "# Golf Zepp Analysis\n",
    "\n",
    "Data collected while I was using my golf zepp sensor. <br> \n",
    "I want to see the variance of my swing to try to be more consistent!"
   ]
  },
  {
   "cell_type": "code",
   "execution_count": 1,
   "metadata": {
    "collapsed": true
   },
   "outputs": [],
   "source": [
    "import pandas as pd\n",
    "import matplotlib.pyplot as plt\n",
    "\n",
    "%matplotlib inline"
   ]
  },
  {
   "cell_type": "code",
   "execution_count": 2,
   "metadata": {},
   "outputs": [
    {
     "data": {
      "text/html": [
       "<div>\n",
       "<style>\n",
       "    .dataframe thead tr:only-child th {\n",
       "        text-align: right;\n",
       "    }\n",
       "\n",
       "    .dataframe thead th {\n",
       "        text-align: left;\n",
       "    }\n",
       "\n",
       "    .dataframe tbody tr th {\n",
       "        vertical-align: top;\n",
       "    }\n",
       "</style>\n",
       "<table border=\"1\" class=\"dataframe\">\n",
       "  <thead>\n",
       "    <tr style=\"text-align: right;\">\n",
       "      <th></th>\n",
       "      <th>club</th>\n",
       "      <th>club_speed</th>\n",
       "      <th>club_plan</th>\n",
       "      <th>hand_plan</th>\n",
       "      <th>tempo</th>\n",
       "      <th>angle</th>\n",
       "      <th>date</th>\n",
       "    </tr>\n",
       "  </thead>\n",
       "  <tbody>\n",
       "    <tr>\n",
       "      <th>0</th>\n",
       "      <td>7</td>\n",
       "      <td>75</td>\n",
       "      <td>-3</td>\n",
       "      <td>3</td>\n",
       "      <td>2.7</td>\n",
       "      <td>286</td>\n",
       "      <td>08/06/2017</td>\n",
       "    </tr>\n",
       "    <tr>\n",
       "      <th>1</th>\n",
       "      <td>7</td>\n",
       "      <td>71</td>\n",
       "      <td>-1</td>\n",
       "      <td>6</td>\n",
       "      <td>3.1</td>\n",
       "      <td>281</td>\n",
       "      <td>08/06/2017</td>\n",
       "    </tr>\n",
       "    <tr>\n",
       "      <th>2</th>\n",
       "      <td>7</td>\n",
       "      <td>75</td>\n",
       "      <td>6</td>\n",
       "      <td>8</td>\n",
       "      <td>3.2</td>\n",
       "      <td>284</td>\n",
       "      <td>08/06/2017</td>\n",
       "    </tr>\n",
       "    <tr>\n",
       "      <th>3</th>\n",
       "      <td>7</td>\n",
       "      <td>58</td>\n",
       "      <td>5</td>\n",
       "      <td>6</td>\n",
       "      <td>3.2</td>\n",
       "      <td>280</td>\n",
       "      <td>08/06/2017</td>\n",
       "    </tr>\n",
       "    <tr>\n",
       "      <th>4</th>\n",
       "      <td>1</td>\n",
       "      <td>61</td>\n",
       "      <td>50</td>\n",
       "      <td>12</td>\n",
       "      <td>1.8</td>\n",
       "      <td>182</td>\n",
       "      <td>09/06/2017</td>\n",
       "    </tr>\n",
       "  </tbody>\n",
       "</table>\n",
       "</div>"
      ],
      "text/plain": [
       "  club  club_speed  club_plan  hand_plan  tempo  angle        date\n",
       "0    7          75         -3          3    2.7    286  08/06/2017\n",
       "1    7          71         -1          6    3.1    281  08/06/2017\n",
       "2    7          75          6          8    3.2    284  08/06/2017\n",
       "3    7          58          5          6    3.2    280  08/06/2017\n",
       "4    1          61         50         12    1.8    182  09/06/2017"
      ]
     },
     "execution_count": 2,
     "metadata": {},
     "output_type": "execute_result"
    }
   ],
   "source": [
    "df = pd.read_csv(\"Zepp-data.csv\")\n",
    "df.head()"
   ]
  },
  {
   "cell_type": "code",
   "execution_count": 3,
   "metadata": {},
   "outputs": [
    {
     "data": {
      "text/plain": [
       "0     0.330275\n",
       "9     0.192661\n",
       "7     0.174312\n",
       "3     0.110092\n",
       "1     0.100917\n",
       "6     0.045872\n",
       "pw    0.045872\n",
       "Name: club, dtype: float64"
      ]
     },
     "execution_count": 3,
     "metadata": {},
     "output_type": "execute_result"
    }
   ],
   "source": [
    "df.club.value_counts(normalize=True)"
   ]
  },
  {
   "cell_type": "markdown",
   "metadata": {},
   "source": [
    "0 is course club, meaning it is multiple clubs used in a game of golf."
   ]
  },
  {
   "cell_type": "markdown",
   "metadata": {},
   "source": [
    "## Variance analysis"
   ]
  },
  {
   "cell_type": "code",
   "execution_count": 4,
   "metadata": {
    "collapsed": true
   },
   "outputs": [],
   "source": [
    "def plot_boxplots(club):\n",
    "    plt.figure(figsize=(20,7))\n",
    "    plt.subplot(1,5,1).set_title(\"club_speed\")\n",
    "    plt.boxplot(club[\"club_speed\"].values)\n",
    "    plt.subplot(1,5,2).set_title(\"club_plan\")\n",
    "    plt.boxplot(club[\"club_plan\"].values)\n",
    "    plt.subplot(1,5,3).set_title(\"hand_plan\")\n",
    "    plt.boxplot(club[\"hand_plan\"].values)\n",
    "    plt.subplot(1,5,4).set_title(\"tempo\")\n",
    "    plt.boxplot(club[\"tempo\"].values)\n",
    "    plt.subplot(1,5,5).set_title(\"angle\")\n",
    "    plt.boxplot(club[\"angle\"].values)\n",
    "    plt.show()"
   ]
  },
  {
   "cell_type": "code",
   "execution_count": 5,
   "metadata": {},
   "outputs": [
    {
     "data": {
      "image/png": "[encoded data removed]",
      "text/plain": [
       "<matplotlib.figure.Figure at 0x1737b34c860>"
      ]
     },
     "metadata": {},
     "output_type": "display_data"
    }
   ],
   "source": [
    "club9 = df[df[\"club\"] == \"9\"]\n",
    "plot_boxplots(club9)"
   ]
  },
  {
   "cell_type": "code",
   "execution_count": 6,
   "metadata": {},
   "outputs": [
    {
     "data": {
      "image/png": "[encoded data removed]",
      "text/plain": [
       "<matplotlib.figure.Figure at 0x1737b903198>"
      ]
     },
     "metadata": {},
     "output_type": "display_data"
    }
   ],
   "source": [
    "club7 = df[df[\"club\"] == \"7\"]\n",
    "plot_boxplots(club7)"
   ]
  }
 ],
 "metadata": {
  "kernelspec": {
   "display_name": "Python 3",
   "language": "python",
   "name": "python3"
  },
  "language_info": {
   "codemirror_mode": {
    "name": "ipython",
    "version": 3
   },
   "file_extension": ".py",
   "mimetype": "text/x-python",
   "name": "python",
   "nbconvert_exporter": "python",
   "pygments_lexer": "ipython3",
   "version": "3.6.1"
  }
 },
 "nbformat": 4,
 "nbformat_minor": 2
}
